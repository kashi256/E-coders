{
 "cells": [
  {
   "cell_type": "code",
   "execution_count": 1,
   "metadata": {
    "colab": {
     "base_uri": "https://localhost:8080/"
    },
    "executionInfo": {
     "elapsed": 5850,
     "status": "ok",
     "timestamp": 1618079734164,
     "user": {
      "displayName": "NOUMAN AHMAD",
      "photoUrl": "https://lh3.googleusercontent.com/a-/AOh14GhcQ3BpK0-GAMrjLlr__tOqeFHLlT11IEFK0ztPsVY=s64",
      "userId": "11031044337039581497"
     },
     "user_tz": -300
    },
    "id": "NTL9JAB_zn0k",
    "outputId": "d9e5ab52-60f0-4793-92d7-1dbea9ae3f29"
   },
   "outputs": [
    {
     "name": "stderr",
     "output_type": "stream",
     "text": [
      "C:\\Users\\Admin\\anaconda3\\lib\\site-packages\\numpy\\_distributor_init.py:30: UserWarning: loaded more than 1 DLL from .libs:\n",
      "C:\\Users\\Admin\\anaconda3\\lib\\site-packages\\numpy\\.libs\\libopenblas.NOIJJG62EMASZI6NYURL6JBKM4EVBGM7.gfortran-win_amd64.dll\n",
      "C:\\Users\\Admin\\anaconda3\\lib\\site-packages\\numpy\\.libs\\libopenblas.WCDJNK7YVMPZQ2ME2ZZHJJRJ3JIKNDB7.gfortran-win_amd64.dll\n",
      "  warnings.warn(\"loaded more than 1 DLL from .libs:\"\n"
     ]
    },
    {
     "name": "stdout",
     "output_type": "stream",
     "text": [
      "2.5.0\n"
     ]
    }
   ],
   "source": [
    "import tensorflow\n",
    "print(tensorflow.__version__)"
   ]
  },
  {
   "attachments": {},
   "cell_type": "markdown",
   "metadata": {
    "id": "Sqs8xkUUT7ex"
   },
   "source": [
    "#Data Preprocessing"
   ]
  },
  {
   "cell_type": "code",
   "execution_count": 2,
   "metadata": {
    "colab": {
     "base_uri": "https://localhost:8080/"
    },
    "executionInfo": {
     "elapsed": 1695,
     "status": "ok",
     "timestamp": 1618079768432,
     "user": {
      "displayName": "NOUMAN AHMAD",
      "photoUrl": "https://lh3.googleusercontent.com/a-/AOh14GhcQ3BpK0-GAMrjLlr__tOqeFHLlT11IEFK0ztPsVY=s64",
      "userId": "11031044337039581497"
     },
     "user_tz": -300
    },
    "id": "k89Phl5nTfYU",
    "outputId": "86a086e9-0b38-466c-f047-f06321201e10"
   },
   "outputs": [
    {
     "name": "stdout",
     "output_type": "stream",
     "text": [
      "{'NORMAL': 0, 'PNEUMONIA': 1}\n",
      "['NORMAL', 'PNEUMONIA']\n",
      "[0, 1]\n"
     ]
    }
   ],
   "source": [
    "import cv2,os\n",
    "data_path='I:/projects/cancer_detection_app'\n",
    "categories=os.listdir(data_path)\n",
    "labels=[i for i in range(len(categories))]\n",
    "\n",
    "label_dict=dict(zip(categories,labels)) #empty dictionary\n",
    "print(label_dict)\n",
    "print(categories)\n",
    "print(labels)"
   ]
  },
  {
   "cell_type": "code",
   "execution_count": 3,
   "metadata": {
    "executionInfo": {
     "elapsed": 89114,
     "status": "ok",
     "timestamp": 1618079908897,
     "user": {
      "displayName": "NOUMAN AHMAD",
      "photoUrl": "https://lh3.googleusercontent.com/a-/AOh14GhcQ3BpK0-GAMrjLlr__tOqeFHLlT11IEFK0ztPsVY=s64",
      "userId": "11031044337039581497"
     },
     "user_tz": -300
    },
    "id": "BScfeIRlTtlL"
   },
   "outputs": [
    {
     "name": "stdout",
     "output_type": "stream",
     "text": [
      "Exception: OpenCV(4.4.0) C:\\Users\\appveyor\\AppData\\Local\\Temp\\1\\pip-req-build-h4wtvo23\\opencv\\modules\\imgproc\\src\\resize.cpp:3929: error: (-215:Assertion failed) !ssize.empty() in function 'cv::resize'\n",
      "\n",
      "Exception: OpenCV(4.4.0) C:\\Users\\appveyor\\AppData\\Local\\Temp\\1\\pip-req-build-h4wtvo23\\opencv\\modules\\imgproc\\src\\resize.cpp:3929: error: (-215:Assertion failed) !ssize.empty() in function 'cv::resize'\n",
      "\n"
     ]
    }
   ],
   "source": [
    "img_size=100\n",
    "data=[]\n",
    "target=[]\n",
    "\n",
    "for category in categories:\n",
    "    folder_path=os.path.join(data_path,category)\n",
    "    img_names=os.listdir(folder_path)\n",
    "        \n",
    "    for img_name in img_names:\n",
    "        img_path=os.path.join(folder_path,img_name)\n",
    "        img=cv2.imread(img_path)\n",
    "\n",
    "        try:  \n",
    "            resized=cv2.resize(img,(img_size,img_size))\n",
    "            #resizing the image  into 100x100, since we need a fixed common size for all the images in the dataset\n",
    "            data.append(resized)\n",
    "            target.append(label_dict[category])\n",
    "            #appending the image and the label(categorized) into the list (dataset)\n",
    "        except Exception as e:\n",
    "            print('Exception:',e)\n",
    "            #if any exception rasied, the exception will be printed here. And pass to the next image"
   ]
  },
  {
   "attachments": {},
   "cell_type": "markdown",
   "metadata": {
    "id": "mYQHryCXVQa9"
   },
   "source": [
    "#Recale and assign  catagorical lables"
   ]
  },
  {
   "cell_type": "code",
   "execution_count": 4,
   "metadata": {
    "colab": {
     "base_uri": "https://localhost:8080/"
    },
    "executionInfo": {
     "elapsed": 1392,
     "status": "ok",
     "timestamp": 1618080016851,
     "user": {
      "displayName": "NOUMAN AHMAD",
      "photoUrl": "https://lh3.googleusercontent.com/a-/AOh14GhcQ3BpK0-GAMrjLlr__tOqeFHLlT11IEFK0ztPsVY=s64",
      "userId": "11031044337039581497"
     },
     "user_tz": -300
    },
    "id": "DRj6dU9zTxNw",
    "outputId": "14ebdcec-fb05-40ba-d692-403756ed5b3b"
   },
   "outputs": [],
   "source": [
    "import numpy as np\n",
    "data=np.array(data)/255.0\n",
    "data=np.reshape(data,(data.shape[0],img_size,img_size,3))\n",
    "target=np.array(target)\n",
    "from keras.utils import np_utils\n",
    "new_target=np_utils.to_categorical(target)"
   ]
  },
  {
   "cell_type": "code",
   "execution_count": 5,
   "metadata": {
    "colab": {
     "base_uri": "https://localhost:8080/"
    },
    "executionInfo": {
     "elapsed": 1379,
     "status": "ok",
     "timestamp": 1618080041990,
     "user": {
      "displayName": "NOUMAN AHMAD",
      "photoUrl": "https://lh3.googleusercontent.com/a-/AOh14GhcQ3BpK0-GAMrjLlr__tOqeFHLlT11IEFK0ztPsVY=s64",
      "userId": "11031044337039581497"
     },
     "user_tz": -300
    },
    "id": "M2Ww7WuoeRAo",
    "outputId": "5d0c57ee-4450-4b30-8854-135c87e8d5f7"
   },
   "outputs": [
    {
     "data": {
      "text/plain": [
       "(5216, 2)"
      ]
     },
     "execution_count": 5,
     "metadata": {},
     "output_type": "execute_result"
    }
   ],
   "source": [
    "new_target.shape"
   ]
  },
  {
   "attachments": {},
   "cell_type": "markdown",
   "metadata": {
    "id": "at-tkV9EUH8v"
   },
   "source": [
    "#CNN Model"
   ]
  },
  {
   "cell_type": "code",
   "execution_count": 6,
   "metadata": {
    "colab": {
     "base_uri": "https://localhost:8080/"
    },
    "executionInfo": {
     "elapsed": 1738,
     "status": "ok",
     "timestamp": 1618080053147,
     "user": {
      "displayName": "NOUMAN AHMAD",
      "photoUrl": "https://lh3.googleusercontent.com/a-/AOh14GhcQ3BpK0-GAMrjLlr__tOqeFHLlT11IEFK0ztPsVY=s64",
      "userId": "11031044337039581497"
     },
     "user_tz": -300
    },
    "id": "w5yQijqzVHJN",
    "outputId": "f14a9ff4-ca43-4e36-ac0b-e10e8082c26a"
   },
   "outputs": [
    {
     "data": {
      "text/plain": [
       "(5216, 100, 100, 3)"
      ]
     },
     "execution_count": 6,
     "metadata": {},
     "output_type": "execute_result"
    }
   ],
   "source": [
    "data.shape"
   ]
  },
  {
   "cell_type": "code",
   "execution_count": 7,
   "metadata": {
    "colab": {
     "base_uri": "https://localhost:8080/"
    },
    "executionInfo": {
     "elapsed": 1326,
     "status": "ok",
     "timestamp": 1618080061404,
     "user": {
      "displayName": "NOUMAN AHMAD",
      "photoUrl": "https://lh3.googleusercontent.com/a-/AOh14GhcQ3BpK0-GAMrjLlr__tOqeFHLlT11IEFK0ztPsVY=s64",
      "userId": "11031044337039581497"
     },
     "user_tz": -300
    },
    "id": "L1JcfG4MdVZ2",
    "outputId": "c51892f2-4157-4808-fda7-be0ef092abd5"
   },
   "outputs": [
    {
     "data": {
      "text/plain": [
       "(100, 100, 3)"
      ]
     },
     "execution_count": 7,
     "metadata": {},
     "output_type": "execute_result"
    }
   ],
   "source": [
    "data.shape[1:]"
   ]
  },
  {
   "cell_type": "code",
   "execution_count": 8,
   "metadata": {
    "colab": {
     "base_uri": "https://localhost:8080/"
    },
    "executionInfo": {
     "elapsed": 1913,
     "status": "ok",
     "timestamp": 1618080112682,
     "user": {
      "displayName": "NOUMAN AHMAD",
      "photoUrl": "https://lh3.googleusercontent.com/a-/AOh14GhcQ3BpK0-GAMrjLlr__tOqeFHLlT11IEFK0ztPsVY=s64",
      "userId": "11031044337039581497"
     },
     "user_tz": -300
    },
    "id": "XgsZogOtUPm2",
    "outputId": "7b8a2454-fb6f-4582-c89e-94cde118db4d"
   },
   "outputs": [],
   "source": [
    "from keras.models import Sequential\n",
    "from keras.layers import Dense,Activation,Flatten,Dropout\n",
    "from keras.layers import Conv2D,MaxPooling2D\n",
    "from keras.callbacks import ModelCheckpoint\n",
    "\n",
    "model=Sequential()\n",
    "\n",
    "model.add(Conv2D(200,(3,3),input_shape=data.shape[1:]))\n",
    "model.add(Activation('relu'))\n",
    "model.add(MaxPooling2D(pool_size=(2,2)))\n",
    "#The first CNN layer followed by Relu and MaxPooling layers\n",
    "\n",
    "model.add(Conv2D(100,(3,3)))\n",
    "model.add(Activation('relu'))\n",
    "model.add(MaxPooling2D(pool_size=(2,2)))\n",
    "#The second convolution layer followed by Relu and MaxPooling layers\n",
    "\n",
    "model.add(Flatten())\n",
    "model.add(Dropout(0.5))\n",
    "#Flatten layer to stack the output convolutions from second convolution layer\n",
    "model.add(Dense(50,activation='relu'))\n",
    "#Dense layer of 64 neurons\n",
    "model.add(Dense(2,activation='softmax'))\n",
    "#The Final layer with two outputs for two categories\n",
    "\n",
    "model.compile(loss='categorical_crossentropy',optimizer='adam',metrics=['accuracy'])"
   ]
  },
  {
   "cell_type": "code",
   "execution_count": 9,
   "metadata": {
    "colab": {
     "base_uri": "https://localhost:8080/"
    },
    "executionInfo": {
     "elapsed": 1456,
     "status": "ok",
     "timestamp": 1618080117108,
     "user": {
      "displayName": "NOUMAN AHMAD",
      "photoUrl": "https://lh3.googleusercontent.com/a-/AOh14GhcQ3BpK0-GAMrjLlr__tOqeFHLlT11IEFK0ztPsVY=s64",
      "userId": "11031044337039581497"
     },
     "user_tz": -300
    },
    "id": "yfCMzZEpcyAM",
    "outputId": "4b1e9646-3e6a-4cfd-b479-54e7322d464b"
   },
   "outputs": [
    {
     "name": "stdout",
     "output_type": "stream",
     "text": [
      "Model: \"sequential\"\n",
      "_________________________________________________________________\n",
      "Layer (type)                 Output Shape              Param #   \n",
      "=================================================================\n",
      "conv2d (Conv2D)              (None, 98, 98, 200)       5600      \n",
      "_________________________________________________________________\n",
      "activation (Activation)      (None, 98, 98, 200)       0         \n",
      "_________________________________________________________________\n",
      "max_pooling2d (MaxPooling2D) (None, 49, 49, 200)       0         \n",
      "_________________________________________________________________\n",
      "conv2d_1 (Conv2D)            (None, 47, 47, 100)       180100    \n",
      "_________________________________________________________________\n",
      "activation_1 (Activation)    (None, 47, 47, 100)       0         \n",
      "_________________________________________________________________\n",
      "max_pooling2d_1 (MaxPooling2 (None, 23, 23, 100)       0         \n",
      "_________________________________________________________________\n",
      "flatten (Flatten)            (None, 52900)             0         \n",
      "_________________________________________________________________\n",
      "dropout (Dropout)            (None, 52900)             0         \n",
      "_________________________________________________________________\n",
      "dense (Dense)                (None, 50)                2645050   \n",
      "_________________________________________________________________\n",
      "dense_1 (Dense)              (None, 2)                 102       \n",
      "=================================================================\n",
      "Total params: 2,830,852\n",
      "Trainable params: 2,830,852\n",
      "Non-trainable params: 0\n",
      "_________________________________________________________________\n"
     ]
    }
   ],
   "source": [
    "model.summary()"
   ]
  },
  {
   "attachments": {},
   "cell_type": "markdown",
   "metadata": {
    "id": "Lzs7FPsncqKT"
   },
   "source": [
    "#Splittiong data into traning and testing"
   ]
  },
  {
   "cell_type": "code",
   "execution_count": 10,
   "metadata": {
    "executionInfo": {
     "elapsed": 2399,
     "status": "ok",
     "timestamp": 1618080162656,
     "user": {
      "displayName": "NOUMAN AHMAD",
      "photoUrl": "https://lh3.googleusercontent.com/a-/AOh14GhcQ3BpK0-GAMrjLlr__tOqeFHLlT11IEFK0ztPsVY=s64",
      "userId": "11031044337039581497"
     },
     "user_tz": -300
    },
    "id": "1oHT4H09UT8-"
   },
   "outputs": [],
   "source": [
    "from sklearn.model_selection import train_test_split\n",
    "train_data,test_data,train_target,test_target=train_test_split(data,new_target,test_size=0.1)"
   ]
  },
  {
   "cell_type": "code",
   "execution_count": 11,
   "metadata": {
    "colab": {
     "base_uri": "https://localhost:8080/"
    },
    "executionInfo": {
     "elapsed": 773,
     "status": "ok",
     "timestamp": 1618080164896,
     "user": {
      "displayName": "NOUMAN AHMAD",
      "photoUrl": "https://lh3.googleusercontent.com/a-/AOh14GhcQ3BpK0-GAMrjLlr__tOqeFHLlT11IEFK0ztPsVY=s64",
      "userId": "11031044337039581497"
     },
     "user_tz": -300
    },
    "id": "sBdHmVpzdbny",
    "outputId": "b0d7deb4-6b94-491d-faf5-e1d6f569a82d"
   },
   "outputs": [
    {
     "data": {
      "text/plain": [
       "(4694, 100, 100, 3)"
      ]
     },
     "execution_count": 11,
     "metadata": {},
     "output_type": "execute_result"
    }
   ],
   "source": [
    "train_data.shape"
   ]
  },
  {
   "cell_type": "code",
   "execution_count": 12,
   "metadata": {
    "colab": {
     "base_uri": "https://localhost:8080/"
    },
    "executionInfo": {
     "elapsed": 1060,
     "status": "ok",
     "timestamp": 1618080166945,
     "user": {
      "displayName": "NOUMAN AHMAD",
      "photoUrl": "https://lh3.googleusercontent.com/a-/AOh14GhcQ3BpK0-GAMrjLlr__tOqeFHLlT11IEFK0ztPsVY=s64",
      "userId": "11031044337039581497"
     },
     "user_tz": -300
    },
    "id": "Yt9DmIiydgcq",
    "outputId": "7cdbae7f-504b-49a3-f43f-0e85cb197dbf"
   },
   "outputs": [
    {
     "data": {
      "text/plain": [
       "(4694, 2)"
      ]
     },
     "execution_count": 12,
     "metadata": {},
     "output_type": "execute_result"
    }
   ],
   "source": [
    "train_target.shape"
   ]
  },
  {
   "cell_type": "code",
   "execution_count": 13,
   "metadata": {
    "colab": {
     "base_uri": "https://localhost:8080/"
    },
    "executionInfo": {
     "elapsed": 103840,
     "status": "ok",
     "timestamp": 1618080277209,
     "user": {
      "displayName": "NOUMAN AHMAD",
      "photoUrl": "https://lh3.googleusercontent.com/a-/AOh14GhcQ3BpK0-GAMrjLlr__tOqeFHLlT11IEFK0ztPsVY=s64",
      "userId": "11031044337039581497"
     },
     "user_tz": -300
    },
    "id": "rmpEGWUMUUnh",
    "outputId": "52d30ea1-789c-48ad-c38d-958bf0724db0"
   },
   "outputs": [
    {
     "name": "stdout",
     "output_type": "stream",
     "text": [
      "Epoch 1/50\n",
      "118/118 [==============================] - 140s 1s/step - loss: 0.5460 - accuracy: 0.7610 - val_loss: 0.1033 - val_accuracy: 0.9574\n",
      "Epoch 2/50\n",
      "118/118 [==============================] - 121s 1s/step - loss: 0.1449 - accuracy: 0.9464 - val_loss: 0.1114 - val_accuracy: 0.9627\n",
      "Epoch 3/50\n",
      "118/118 [==============================] - 121s 1s/step - loss: 0.1565 - accuracy: 0.9452 - val_loss: 0.0891 - val_accuracy: 0.9617\n",
      "Epoch 4/50\n",
      "118/118 [==============================] - 118s 1s/step - loss: 0.1001 - accuracy: 0.9571 - val_loss: 0.2096 - val_accuracy: 0.9244\n",
      "Epoch 5/50\n",
      "118/118 [==============================] - 119s 1s/step - loss: 0.0932 - accuracy: 0.9679 - val_loss: 0.0914 - val_accuracy: 0.9691\n",
      "Epoch 6/50\n",
      "118/118 [==============================] - 123s 1s/step - loss: 0.0758 - accuracy: 0.9740 - val_loss: 0.0943 - val_accuracy: 0.9702\n",
      "Epoch 7/50\n",
      "118/118 [==============================] - 119s 1s/step - loss: 0.0824 - accuracy: 0.9702 - val_loss: 0.0820 - val_accuracy: 0.9691\n",
      "Epoch 8/50\n",
      "118/118 [==============================] - 120s 1s/step - loss: 0.0559 - accuracy: 0.9820 - val_loss: 0.0708 - val_accuracy: 0.9787\n",
      "Epoch 9/50\n",
      "118/118 [==============================] - 118s 1s/step - loss: 0.0636 - accuracy: 0.9753 - val_loss: 0.0836 - val_accuracy: 0.9723\n",
      "Epoch 10/50\n",
      "118/118 [==============================] - 119s 1s/step - loss: 0.0624 - accuracy: 0.9781 - val_loss: 0.1205 - val_accuracy: 0.9617\n",
      "Epoch 11/50\n",
      "118/118 [==============================] - 120s 1s/step - loss: 0.0437 - accuracy: 0.9812 - val_loss: 0.0719 - val_accuracy: 0.9776\n",
      "Epoch 12/50\n",
      "118/118 [==============================] - 118s 997ms/step - loss: 0.0335 - accuracy: 0.9859 - val_loss: 0.0688 - val_accuracy: 0.9798\n",
      "Epoch 13/50\n",
      "118/118 [==============================] - 118s 1s/step - loss: 0.0367 - accuracy: 0.9862 - val_loss: 0.0886 - val_accuracy: 0.9702\n",
      "Epoch 14/50\n",
      "118/118 [==============================] - 120s 1s/step - loss: 0.0363 - accuracy: 0.9865 - val_loss: 0.0874 - val_accuracy: 0.9723\n",
      "Epoch 15/50\n",
      "118/118 [==============================] - 119s 1s/step - loss: 0.0263 - accuracy: 0.9893 - val_loss: 0.1301 - val_accuracy: 0.9649\n",
      "Epoch 16/50\n",
      "118/118 [==============================] - 119s 1s/step - loss: 0.0340 - accuracy: 0.9885 - val_loss: 0.0700 - val_accuracy: 0.9798\n",
      "Epoch 17/50\n",
      "118/118 [==============================] - 121s 1s/step - loss: 0.0202 - accuracy: 0.9917 - val_loss: 0.0897 - val_accuracy: 0.9691\n",
      "Epoch 18/50\n",
      "118/118 [==============================] - 118s 1s/step - loss: 0.0302 - accuracy: 0.9912 - val_loss: 0.0846 - val_accuracy: 0.9734\n",
      "Epoch 19/50\n",
      "118/118 [==============================] - 119s 1s/step - loss: 0.0220 - accuracy: 0.9910 - val_loss: 0.1113 - val_accuracy: 0.9702\n",
      "Epoch 20/50\n",
      "118/118 [==============================] - 118s 1s/step - loss: 0.0241 - accuracy: 0.9926 - val_loss: 0.0915 - val_accuracy: 0.9744\n",
      "Epoch 21/50\n",
      "118/118 [==============================] - 117s 991ms/step - loss: 0.0147 - accuracy: 0.9948 - val_loss: 0.0995 - val_accuracy: 0.9766\n",
      "Epoch 22/50\n",
      "118/118 [==============================] - 118s 997ms/step - loss: 0.0135 - accuracy: 0.9943 - val_loss: 0.0906 - val_accuracy: 0.9787\n",
      "Epoch 23/50\n",
      "118/118 [==============================] - 119s 1s/step - loss: 0.0166 - accuracy: 0.9934 - val_loss: 0.1192 - val_accuracy: 0.9744\n",
      "Epoch 24/50\n",
      "118/118 [==============================] - 126s 1s/step - loss: 0.0221 - accuracy: 0.9924 - val_loss: 0.1143 - val_accuracy: 0.9808\n",
      "Epoch 25/50\n",
      "118/118 [==============================] - 121s 1s/step - loss: 0.0122 - accuracy: 0.9952 - val_loss: 0.1250 - val_accuracy: 0.9787\n",
      "Epoch 26/50\n",
      "118/118 [==============================] - 119s 1s/step - loss: 0.0246 - accuracy: 0.9898 - val_loss: 0.1015 - val_accuracy: 0.9712\n",
      "Epoch 27/50\n",
      "118/118 [==============================] - 117s 994ms/step - loss: 0.0354 - accuracy: 0.9901 - val_loss: 0.0983 - val_accuracy: 0.9766\n",
      "Epoch 28/50\n",
      "118/118 [==============================] - 121s 1s/step - loss: 0.0119 - accuracy: 0.9957 - val_loss: 0.1108 - val_accuracy: 0.9766\n",
      "Epoch 29/50\n",
      "118/118 [==============================] - 126s 1s/step - loss: 0.0235 - accuracy: 0.9929 - val_loss: 0.0976 - val_accuracy: 0.9787\n",
      "Epoch 30/50\n",
      "118/118 [==============================] - 125s 1s/step - loss: 0.0073 - accuracy: 0.9982 - val_loss: 0.0980 - val_accuracy: 0.9787\n",
      "Epoch 31/50\n",
      "118/118 [==============================] - 125s 1s/step - loss: 0.0121 - accuracy: 0.9949 - val_loss: 0.1213 - val_accuracy: 0.9723\n",
      "Epoch 32/50\n",
      "118/118 [==============================] - 125s 1s/step - loss: 0.0084 - accuracy: 0.9949 - val_loss: 0.1333 - val_accuracy: 0.9766\n",
      "Epoch 33/50\n",
      "118/118 [==============================] - 125s 1s/step - loss: 0.0048 - accuracy: 0.9986 - val_loss: 0.1190 - val_accuracy: 0.9712\n",
      "Epoch 34/50\n",
      "118/118 [==============================] - 125s 1s/step - loss: 0.0060 - accuracy: 0.9985 - val_loss: 0.1078 - val_accuracy: 0.9723\n",
      "Epoch 35/50\n",
      "118/118 [==============================] - 121s 1s/step - loss: 0.0134 - accuracy: 0.9948 - val_loss: 0.1084 - val_accuracy: 0.9723\n",
      "Epoch 36/50\n",
      "118/118 [==============================] - 116s 985ms/step - loss: 0.0073 - accuracy: 0.9980 - val_loss: 0.1357 - val_accuracy: 0.9798\n",
      "Epoch 37/50\n",
      "118/118 [==============================] - 117s 988ms/step - loss: 0.0070 - accuracy: 0.9979 - val_loss: 0.1640 - val_accuracy: 0.9723\n",
      "Epoch 38/50\n",
      "118/118 [==============================] - 116s 986ms/step - loss: 0.0070 - accuracy: 0.9981 - val_loss: 0.1088 - val_accuracy: 0.9808\n",
      "Epoch 39/50\n",
      "118/118 [==============================] - 117s 989ms/step - loss: 0.0100 - accuracy: 0.9974 - val_loss: 0.1046 - val_accuracy: 0.9766\n",
      "Epoch 40/50\n",
      "118/118 [==============================] - 116s 987ms/step - loss: 0.0077 - accuracy: 0.9971 - val_loss: 0.1292 - val_accuracy: 0.9787\n",
      "Epoch 41/50\n",
      "118/118 [==============================] - 117s 988ms/step - loss: 0.0063 - accuracy: 0.9970 - val_loss: 0.1440 - val_accuracy: 0.9744\n",
      "Epoch 42/50\n",
      "118/118 [==============================] - 117s 992ms/step - loss: 0.0152 - accuracy: 0.9949 - val_loss: 0.1717 - val_accuracy: 0.9627\n",
      "Epoch 43/50\n",
      "118/118 [==============================] - 117s 991ms/step - loss: 0.0233 - accuracy: 0.9918 - val_loss: 0.1098 - val_accuracy: 0.9776\n",
      "Epoch 44/50\n",
      "118/118 [==============================] - 116s 985ms/step - loss: 0.0061 - accuracy: 0.9978 - val_loss: 0.1375 - val_accuracy: 0.9712\n",
      "Epoch 45/50\n",
      "118/118 [==============================] - 117s 992ms/step - loss: 0.0170 - accuracy: 0.9940 - val_loss: 0.1119 - val_accuracy: 0.9744\n",
      "Epoch 46/50\n",
      "118/118 [==============================] - 116s 986ms/step - loss: 0.0047 - accuracy: 0.9989 - val_loss: 0.1221 - val_accuracy: 0.9755\n",
      "Epoch 47/50\n",
      "118/118 [==============================] - 116s 986ms/step - loss: 0.0031 - accuracy: 0.9994 - val_loss: 0.1280 - val_accuracy: 0.9776\n",
      "Epoch 48/50\n",
      "118/118 [==============================] - 117s 989ms/step - loss: 0.0061 - accuracy: 0.9987 - val_loss: 0.1485 - val_accuracy: 0.9712\n",
      "Epoch 49/50\n",
      "118/118 [==============================] - 117s 991ms/step - loss: 0.0055 - accuracy: 0.9977 - val_loss: 0.1427 - val_accuracy: 0.9723\n",
      "Epoch 50/50\n",
      "118/118 [==============================] - 117s 988ms/step - loss: 0.0053 - accuracy: 0.9980 - val_loss: 0.1374 - val_accuracy: 0.9755\n"
     ]
    }
   ],
   "source": [
    "#checkpoint = ModelCheckpoint('model-{epoch:03d}.model',monitor='val_loss',verbose=0,save_best_only=True,mode='auto')\n",
    "history=model.fit(train_data,train_target,epochs=50,validation_split=0.2)"
   ]
  },
  {
   "cell_type": "code",
   "execution_count": 14,
   "metadata": {
    "executionInfo": {
     "elapsed": 3136,
     "status": "ok",
     "timestamp": 1618080323872,
     "user": {
      "displayName": "NOUMAN AHMAD",
      "photoUrl": "https://lh3.googleusercontent.com/a-/AOh14GhcQ3BpK0-GAMrjLlr__tOqeFHLlT11IEFK0ztPsVY=s64",
      "userId": "11031044337039581497"
     },
     "user_tz": -300
    },
    "id": "GWIlgOnjzdhT"
   },
   "outputs": [],
   "source": [
    "model.save('cancer_detection_model.h5')"
   ]
  },
  {
   "cell_type": "code",
   "execution_count": null,
   "metadata": {},
   "outputs": [],
   "source": []
  }
 ],
 "metadata": {
  "accelerator": "GPU",
  "colab": {
   "name": "Model_Train.ipynb",
   "provenance": [],
   "toc_visible": true
  },
  "kernelspec": {
   "display_name": "Python 3 (ipykernel)",
   "language": "python",
   "name": "python3"
  },
  "language_info": {
   "codemirror_mode": {
    "name": "ipython",
    "version": 3
   },
   "file_extension": ".py",
   "mimetype": "text/x-python",
   "name": "python",
   "nbconvert_exporter": "python",
   "pygments_lexer": "ipython3",
   "version": "3.9.7"
  }
 },
 "nbformat": 4,
 "nbformat_minor": 1
}
